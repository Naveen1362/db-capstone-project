{
 "cells": [
  {
   "cell_type": "code",
   "execution_count": 1,
   "id": "932fd58b",
   "metadata": {},
   "outputs": [],
   "source": [
    "import mysql.connector as connector"
   ]
  },
  {
   "cell_type": "code",
   "execution_count": 2,
   "id": "ce33da74",
   "metadata": {},
   "outputs": [],
   "source": [
    "connection = connector.connect(user = 'root', password = 'Naveen@5302')"
   ]
  },
  {
   "cell_type": "code",
   "execution_count": 3,
   "id": "a30910bc",
   "metadata": {},
   "outputs": [],
   "source": [
    "cursor = connection.cursor(buffered = True)"
   ]
  },
  {
   "cell_type": "code",
   "execution_count": 4,
   "id": "44128279",
   "metadata": {},
   "outputs": [],
   "source": [
    "cursor.execute('USE LittleLemonDB;')"
   ]
  },
  {
   "cell_type": "code",
   "execution_count": 5,
   "id": "6081cef2",
   "metadata": {},
   "outputs": [],
   "source": [
    "showTables = \"\"\"SHOW TABLES;\"\"\"\n",
    "cursor.execute(showTables)"
   ]
  },
  {
   "cell_type": "code",
   "execution_count": 6,
   "id": "8f2ea5ab",
   "metadata": {},
   "outputs": [
    {
     "name": "stdout",
     "output_type": "stream",
     "text": [
      "[('bookings',), ('customerdetails',), ('items',), ('menus',), ('orderdeliverystatus',), ('orders',), ('ordersview',), ('staff',)]\n"
     ]
    }
   ],
   "source": [
    "results = cursor.fetchall()\n",
    "print(results)"
   ]
  },
  {
   "cell_type": "code",
   "execution_count": 7,
   "id": "bd9f14b9",
   "metadata": {},
   "outputs": [],
   "source": [
    "joinQuery = \"\"\"SELECT a.CustomerName, a.Phone, a.Email FROM CustomerDetails AS a INNER JOIN Bookings AS b ON a.CustomerID = b.CustomerID\n",
    "INNER JOIN Orders AS c ON b.BookingID = c.BookingID\n",
    "WHERE BillAmount > 60;\"\"\"\n",
    "cursor.execute(joinQuery)"
   ]
  },
  {
   "cell_type": "code",
   "execution_count": 8,
   "id": "9c70793e",
   "metadata": {},
   "outputs": [
    {
     "name": "stdout",
     "output_type": "stream",
     "text": [
      "('CustomerName', 'Phone', 'Email')\n",
      "('Anna Iversen', '892736458', 'anna@gmail.com')\n",
      "('Marcos Romero', '746538593', 'marcos@gmail.com')\n"
     ]
    }
   ],
   "source": [
    "results = cursor.fetchall()\n",
    "print(cursor.column_names)\n",
    "for res in results:\n",
    "    print(res)"
   ]
  }
 ],
 "metadata": {
  "kernelspec": {
   "display_name": "Python 3",
   "language": "python",
   "name": "python3"
  },
  "language_info": {
   "codemirror_mode": {
    "name": "ipython",
    "version": 3
   },
   "file_extension": ".py",
   "mimetype": "text/x-python",
   "name": "python",
   "nbconvert_exporter": "python",
   "pygments_lexer": "ipython3",
   "version": "3.6.8"
  }
 },
 "nbformat": 4,
 "nbformat_minor": 5
}
